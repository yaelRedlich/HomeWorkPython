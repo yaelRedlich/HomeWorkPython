{
 "cells": [
  {
   "cell_type": "code",
   "execution_count": 6,
   "id": "0482f257-611f-43fa-ad4f-3050486b8488",
   "metadata": {},
   "outputs": [
    {
     "name": "stdout",
     "output_type": "stream",
     "text": [
      "[31 41  4]\n"
     ]
    },
    {
     "data": {
      "text/plain": [
       "np.float64(25.333333333333332)"
      ]
     },
     "execution_count": 6,
     "metadata": {},
     "output_type": "execute_result"
    }
   ],
   "source": [
    "import numpy as np\n",
    "random_int_array = np.random.randint(1, 50, size=(10))\n",
    "print(random_int_array)\n",
    "np.mean(random_int_array)"
   ]
  },
  {
   "cell_type": "code",
   "execution_count": 4,
   "id": "c5c28ddd-8505-456d-8361-bb3742e5c00b",
   "metadata": {},
   "outputs": [
    {
     "name": "stdout",
     "output_type": "stream",
     "text": [
      "Requirement already satisfied: numpy in c:\\users\\user1\\appdata\\local\\programs\\python\\python313\\lib\\site-packages (2.2.5)\n",
      "Note: you may need to restart the kernel to use updated packages.\n"
     ]
    },
    {
     "name": "stderr",
     "output_type": "stream",
     "text": [
      "\n",
      "[notice] A new release of pip is available: 24.3.1 -> 25.1\n",
      "[notice] To update, run: python.exe -m pip install --upgrade pip\n"
     ]
    }
   ],
   "source": [
    "pip install numpy"
   ]
  },
  {
   "cell_type": "code",
   "execution_count": 8,
   "id": "2d8c7a08-ea38-43b4-bb78-afc71903cb5b",
   "metadata": {},
   "outputs": [
    {
     "name": "stdout",
     "output_type": "stream",
     "text": [
      "[52 31  3 34 42 34 77 27 87 93 13 16 18 12 96  9 11 41 98 57]\n",
      "[52 77 87 93 96 98 57]\n"
     ]
    }
   ],
   "source": [
    "import numpy as np\n",
    "random_int_array = np.random.randint(1, 100, size=(20))\n",
    "greater_than_50 =random_int_array[random_int_array>50]\n",
    "print(random_int_array)\n",
    "print(greater_than_50)"
   ]
  }
 ],
 "metadata": {
  "kernelspec": {
   "display_name": "Python 3 (ipykernel)",
   "language": "python",
   "name": "python3"
  },
  "language_info": {
   "codemirror_mode": {
    "name": "ipython",
    "version": 3
   },
   "file_extension": ".py",
   "mimetype": "text/x-python",
   "name": "python",
   "nbconvert_exporter": "python",
   "pygments_lexer": "ipython3",
   "version": "3.13.1"
  }
 },
 "nbformat": 4,
 "nbformat_minor": 5
}
